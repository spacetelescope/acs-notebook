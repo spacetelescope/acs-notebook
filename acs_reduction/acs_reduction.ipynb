{
 "cells": [
  {
   "cell_type": "markdown",
   "metadata": {},
   "source": [
    "<div class=\"alert alert-block alert-warning\">\n",
    "<b>REQUIREMENT:</b>\n",
    "    Before proceeding, install or update your\n",
    "    <b><a class=\"divlink\" href=\"https://astroconda.readthedocs.io\">\n",
    "    AstroConda\n",
    "    </a></b>\n",
    "     distribution. The code cells below may not work properly with older versions of AstroConda.\n",
    "</div>"
   ]
  },
  {
   "cell_type": "markdown",
   "metadata": {},
   "source": [
    "# ACS/WFC Image Reduction\n",
    "\n",
    "## Introduction\n",
    "\n",
    "***\n",
    "\n",
    "This notebook covers the steps necessary to calibrate Advanced Camera for Surveys (ACS) Wide Field Channel (WFC) observations to produce a distortion-corrected image ready for photometry.\n",
    "\n",
    "For most observations, reprocessing the raw files with the calibration pipeline is no longer required as the [MAST](http://archive.stsci.edu) archive is now static and any changes to the pipeline or reference files automatically triggers a reprocessing of the data. However, users may wish to reprocess their data with custom reference files.\n",
    "\n",
    "This notebook is intended for users with a (very!) basic understanding of python and photometry.\n",
    "\n",
    "You will need approximately **13 GB of space** available for this exercise.\n",
    "\n",
    "### This tutorial will show you how to...\n",
    "\n",
    "#### 1. [Calibrate Raw Files](#_calibrate) \n",
    "\n",
    "* Query the Calibration Reference Data System ([CRDS](http://www.stsci.edu/hst/observatory/crds/)) for the current best reference files applicable to a given observation\n",
    "* Update the `*_raw.fits` primary headers with new calibration information\n",
    "* Retrieve calibration files from CRDS and set up the reference file directory\n",
    "* Process files with `calacs`\n",
    "\n",
    "#### 2. [Update the WCS](#_wcs) \n",
    "\n",
    "* Update the FLT/FLC file WCS header keywords"
   ]
  },
  {
   "cell_type": "markdown",
   "metadata": {},
   "source": [
    "## Imports\n",
    "***\n",
    "\n",
    "Here we list the Python packages used in this notebook. Links to the documentation for each module is provided for convenience.\n",
    "\n",
    "| Package Name     | module           | docs          | used for    |\n",
    "|------------------|:-----------------|:-------------:|:------------|\n",
    "| `os`             | `system`           | <a class=\"divlink\" href=\"https://docs.python.org/2/library/os.html#os.system\">link</a>|command line input|\n",
    "| `os`             | `environ`          | <a class=\"divlink\" href=\"https://docs.python.org/2/library/os.html#os.environ\">link</a>| setting environments |\n",
    "|`shutil`          | `rmtree`           | <a class=\"divlink\" href=\"https://docs.python.org/2/library/shutil.html#shutil.rmtree\">link</a>| remove directory tree |\n",
    "|`glob`            | `glob`             | <a class=\"divlink\" href=\"https://docs.python.org/2/library/glob.html#glob.glob\">link</a>| search for files based on Unix shell rules |\n",
    "|`astroquery.mast` |`Observations`      | <a class=\"divlink\" href=\"https://astroquery.readthedocs.io/en/latest/mast/mast.html\">link</a>| download data from MAST |\n",
    "|`astropy.io`      | `fits`             | <a class=\"divlink\" href=\"http://docs.astropy.org/en/stable/io/fits/\">link</a>| access and update fits files |\n",
    "|`astropy.table`   | `Table`            | <a class=\"divlink\" href=\"http://docs.astropy.org/en/stable/table/\">link</a>| constructing and editing in a tabular format |\n",
    "|`stwcs`           |`updatewcs`         | <a class=\"divlink\" href=\"https://stwcs.readthedocs.io/en/latest/updatewcs_ui.html\">link</a>| update wcs solution |"
   ]
  },
  {
   "cell_type": "code",
   "execution_count": null,
   "metadata": {},
   "outputs": [],
   "source": [
    "import os\n",
    "import shutil\n",
    "import glob\n",
    "\n",
    "import boto3\n",
    "\n",
    "from astroquery.mast import Observations\n",
    "\n",
    "from astropy.io import fits\n",
    "from astropy.table import Table\n",
    "\n",
    "from stwcs import updatewcs"
   ]
  },
  {
   "cell_type": "markdown",
   "metadata": {},
   "source": [
    "## Download the Data <a id=\"_download\"></a>\n",
    "***\n",
    "\n",
    "Here we download all of the data required for this notebook. This is an important step! Some of the image processing steps require all relevant files to be in the working directory. We recommend working with a brand new directory for every new set of data.\n",
    "\n",
    "#### [GO Proposal 10775](https://stdatu.stsci.edu/proposal_search.php?mission=hst&id=10775): \"An ACS Survey of Galactic Globular Clusters\"\n",
    "\n",
    "For this example, we will only retreive data associated with the Observation ID **J9L960010**. Using the python package `astroquery`, we can access the [MAST](http://archive.stsci.edu) archive. \n",
    "\n",
    "We will need to grab the raw files, the telemetry files, and the association file for this observation set.\n",
    "\n",
    "<div class=\"alert alert-danger\">\n",
    "<b>MAY CHANGE:</b> The argument \"mrp_only\" stands for \"minimum recommended products only\". It currently needs to be set to False, although in the future, False is intended to be set as the default and can be left out.\n",
    "</div>"
   ]
  },
  {
   "cell_type": "code",
   "execution_count": null,
   "metadata": {},
   "outputs": [],
   "source": [
    "obs_table = Observations.query_criteria(proposal_id=10775, obs_id='J9L960010')"
   ]
  },
  {
   "cell_type": "code",
   "execution_count": null,
   "metadata": {},
   "outputs": [],
   "source": [
    "products = Observations.get_product_list(obs_table)"
   ]
  },
  {
   "cell_type": "code",
   "execution_count": null,
   "metadata": {},
   "outputs": [],
   "source": [
    "filtered = Observations.filter_products(products,\n",
    "                                        productSubGroupDescription=['RAW', 'ASN', 'SPT'],\n",
    "                                        mrp_only=False)"
   ]
  },
  {
   "cell_type": "code",
   "execution_count": null,
   "metadata": {},
   "outputs": [],
   "source": [
    "# Enable 'S3 mode' for module which will return S3-like URLs for FITs files\n",
    "# e.g. s3://stpubdata/hst/public/icde/icde43l0q/icde43l0q_drz.fits\n",
    "Observations.enable_cloud_dataset()"
   ]
  },
  {
   "cell_type": "code",
   "execution_count": null,
   "metadata": {},
   "outputs": [],
   "source": [
    "# TODO: Wait for resolution from ASB-1593.\n",
    "#       Currently get NoCredentialsError from boto3 on JupyterHub.\n",
    "# Grab the S3 URLs for each of the observations\n",
    "s3_urls = Observations.get_cloud_uris(filtered)"
   ]
  },
  {
   "cell_type": "code",
   "execution_count": null,
   "metadata": {},
   "outputs": [],
   "source": [
    "s3 = boto3.resource('s3')"
   ]
  },
  {
   "cell_type": "code",
   "execution_count": null,
   "metadata": {},
   "outputs": [],
   "source": [
    "# Create an authenticated S3 session. Note, download within US-East is free\n",
    "# e.g. to a node on EC2.\n",
    "s3_client = boto3.client('s3',\n",
    "                         aws_access_key_id='YOURAWSACCESSKEY',\n",
    "                         aws_secret_access_key='YOURSECRETACCESSKEY')\n",
    "\n",
    "bucket = s3.Bucket('stpubdata')"
   ]
  },
  {
   "cell_type": "code",
   "execution_count": null,
   "metadata": {},
   "outputs": [],
   "source": [
    "# Download the files\n",
    "for url in s3_urls:\n",
    "    # Extract the S3 key from the S3 URL\n",
    "    fits_s3_key = url.replace(\"s3://stpubdata/\", \"\")\n",
    "    root = url.split('/')[-1]\n",
    "    bucket.download_file(fits_s3_key, root, ExtraArgs={\"RequestPayer\": \"requester\"})"
   ]
  },
  {
   "cell_type": "markdown",
   "metadata": {},
   "source": [
    "Here we set our filenames to variable names for convenience using `glob.glob`."
   ]
  },
  {
   "cell_type": "code",
   "execution_count": null,
   "metadata": {},
   "outputs": [],
   "source": [
    "asn_file = 'j9l960010_asn.fits'\n",
    "raw_files = glob.glob('*_raw.fits')"
   ]
  },
  {
   "cell_type": "markdown",
   "metadata": {},
   "source": [
    "## File Information\n",
    "***\n",
    "The structure of the fits files from ACS may be different depending on what kind of observation was made. For more information, refer to Section <a class=\"divlink\" href=\"http://www.stsci.edu/hst/acs/documents/handbooks/currentDHB/acs_Ch23.html\">Section 2.2</a> of the ACS Data Handbook.\n",
    "\n",
    "### Association Files\n",
    "\n",
    "| Ext    | Name             | Type         | Contains                                               |\n",
    "|--------|------------------|--------------|:-------------------------------------------------------|\n",
    "|<b>0</b>| PRIMARY          | (PrimaryHDU) | Meta-data related to the entire file.                  |\n",
    "|<b>1</b>| ASN (Association)| (BinTableHDU)| Table of files associated with this group.             |"
   ]
  },
  {
   "cell_type": "markdown",
   "metadata": {},
   "source": [
    "### Raw Files (WFC-Specific)\n",
    "\n",
    "| Ext    | Name             | Type         | Contains                                               |\n",
    "|--------|------------------|--------------|:-------------------------------------------------------|\n",
    "|<b>0</b>| PRIMARY          | (PrimaryHDU) | Meta-data related to the entire file.                  |\n",
    "|<b>1</b>| SCI (Image)      | (ImageHDU)   | WFC2 raw image data.                                   |\n",
    "|<b>2</b>| ERR (Error)      | (ImageHDU)   | WFC2 error array.                                      |\n",
    "|<b>3</b>| DQ (Data Quality)| (ImageHDU)   | WFC2 data quality array.                               |\n",
    "|<b>4</b>| SCI (Image)      | (ImageHDU)   | WFC1 raw image data.                                   |\n",
    "|<b>5</b>| ERR (Error)      | (ImageHDU)   | WFC1 error array.                                      |\n",
    "|<b>6</b>| DQ (Data Quality)| (ImageHDU)   | WFC1 data quality array.                               |"
   ]
  },
  {
   "cell_type": "markdown",
   "metadata": {},
   "source": [
    "You can always use `.info()` on an HDUlist for an overview of the structure"
   ]
  },
  {
   "cell_type": "code",
   "execution_count": null,
   "metadata": {},
   "outputs": [],
   "source": [
    "with fits.open(asn_file) as hdulist:\n",
    "    hdulist.info()\n",
    "    \n",
    "with fits.open(raw_files[0]) as hdulist:\n",
    "    hdulist.info()"
   ]
  },
  {
   "cell_type": "markdown",
   "metadata": {},
   "source": [
    "## Calibrate Raw Files <a id=\"_calibrate\"></a>\n",
    "\n",
    "***\n",
    "\n",
    "Now that we have the `*_raw.fits` files, we can process them with the ACS calibration pipeline `calacs`. \n",
    "\n",
    "#### Updating Headers for CRDS\n",
    "\n",
    "By default, the association file will trigger the creation of a drizzled product. In order to avoid this, we will filter the association file to only include table entries with `MEMTYPE` equal to 'EXP-DTH'. This will remove the 'PROD-DTH' entry that prompts AstroDrizzle."
   ]
  },
  {
   "cell_type": "code",
   "execution_count": null,
   "metadata": {},
   "outputs": [],
   "source": [
    "with fits.open(asn_file, mode='update') as asn_hdu:\n",
    "    asn_tab = asn_hdu[1].data\n",
    "    asn_tab = asn_tab[asn_tab['MEMTYPE'] == 'EXP-DTH']"
   ]
  },
  {
   "cell_type": "markdown",
   "metadata": {},
   "source": [
    "Due to the computationally intense processing required to CTE correct full-frame ACS/WFC images, we have disabled the CTE correction here by default, however it can be turned on by changing the following variable to True:"
   ]
  },
  {
   "cell_type": "code",
   "execution_count": null,
   "metadata": {},
   "outputs": [],
   "source": [
    "cte_correct = False"
   ]
  },
  {
   "cell_type": "markdown",
   "metadata": {},
   "source": [
    "Calibration steps can be enabled or disabled by setting the switch keywords in the primary header to 'PERFORM' or 'OMIT', respectively. Switch keywords  all end with the string `CORR` (e.g., `BLEVCORR` and `DARKCORR`). In this case, we want to update `PCTECORR`."
   ]
  },
  {
   "cell_type": "code",
   "execution_count": null,
   "metadata": {},
   "outputs": [],
   "source": [
    "for file in raw_files:\n",
    "    \n",
    "    if cte_correct: \n",
    "        value = 'PERFORM'\n",
    "    else: \n",
    "        value = 'OMIT'\n",
    "        \n",
    "    fits.setval(file, 'PCTECORR', value=value)"
   ]
  },
  {
   "cell_type": "markdown",
   "metadata": {},
   "source": [
    "#### Querying CRDS for Reference Files\n",
    "\n",
    "Before running `calacs`, we need to set some environment variables for several subsequent calibration tasks.\n",
    "\n",
    "We will point to a subdirectory called `crds_cache/` using the JREF environment variable. The `JREF` variable is used for ACS reference files. Other instruments use other variables, e.g., `IREF` for WFC3."
   ]
  },
  {
   "cell_type": "code",
   "execution_count": null,
   "metadata": {},
   "outputs": [],
   "source": [
    "os.environ['CRDS_SERVER_URL'] = 'https://hst-crds.stsci.edu'\n",
    "os.environ['CRDS_SERVER'] = 'https://hst-crds.stsci.edu'\n",
    "os.environ['CRDS_PATH'] = './crds_cache'\n",
    "os.environ['jref'] = './crds_cache/references/hst/acs/'"
   ]
  },
  {
   "cell_type": "markdown",
   "metadata": {},
   "source": [
    "The code block below will query CRDS for the best reference files currently available for these datasets, update the header keywords to point \"to these new files. We will use the Python package `os` to run terminal commands. In the terminal, the line would be:\n",
    "\n",
    "    crds bestrefs --files [filename] --sync-references=1 --update-bestrefs\n",
    "    \n",
    "...where 'filename' is the name of your fits file."
   ]
  },
  {
   "cell_type": "code",
   "execution_count": null,
   "metadata": {},
   "outputs": [],
   "source": [
    "# TODO: How to tell CRDS to grab from S3 buckets.\n",
    "#       https://github.com/spacetelescope/crds/issues/571\n",
    "for file in raw_files:\n",
    "    command_line_input = 'crds bestrefs --files {:} --sync-references=1 --update-bestrefs'.format(file)\n",
    "    os.system(command_line_input)"
   ]
  },
  {
   "cell_type": "markdown",
   "metadata": {},
   "source": [
    "#### Running calacs\n",
    "\n",
    "Finally, we can run `calacs` on the association file. It will produce `*_flt.fits`. The FLT files have had the default CCD calibration steps (bias subtraction, dark subtraction, flat field normalization) performed.\n",
    "\n",
    "<div class=\"alert alert-block alert-info\"><b>If the CTE correction is enabled...</b>\n",
    "\n",
    "   * ...this next step will take a long time to complete. The CTE correction is computationally expensive and will use all of the cores on a machine by default. On an 8 core machine, CTE correcting a full-frame ACS/WFC image can take approximately 15 minutes per RAW file. \n",
    "   \n",
    "\n",
    "   * ...`*_flc.fits` will also be produced.  The FLC files are CTE-corrected but otherwise identical to the FLT files.\n",
    "</div>"
   ]
  },
  {
   "cell_type": "code",
   "execution_count": null,
   "metadata": {},
   "outputs": [],
   "source": [
    "os.system('calacs.e j9l960010_asn.fits');"
   ]
  },
  {
   "cell_type": "markdown",
   "metadata": {},
   "source": [
    "Selecting an image to plot, depending on whether or not you enabled CTE correction earlier."
   ]
  },
  {
   "cell_type": "code",
   "execution_count": null,
   "metadata": {},
   "outputs": [],
   "source": [
    "if cte_correct:\n",
    "    fl_fits = 'j9l960a7q_flc.fits'\n",
    "else:\n",
    "    fl_fits = 'j9l960a7q_flt.fits'"
   ]
  },
  {
   "cell_type": "markdown",
   "metadata": {},
   "source": [
    "#### Plotting results\n",
    "\n",
    "As a check of our calibrated products, we will plot a subsection of one of the input images."
   ]
  },
  {
   "cell_type": "code",
   "execution_count": null,
   "metadata": {},
   "outputs": [],
   "source": [
    "from p_module import plot"
   ]
  },
  {
   "cell_type": "code",
   "execution_count": null,
   "metadata": {},
   "outputs": [],
   "source": [
    "raw_image = fits.getdata('j9l960a7q_raw.fits')\n",
    "cal_image = fits.getdata(fl_fits)\n",
    "\n",
    "plot.calib_compare_plot(raw_image, cal_image)"
   ]
  },
  {
   "cell_type": "markdown",
   "metadata": {},
   "source": [
    "Comparing the FLT calibrated image to the RAW uncalibrated one, we can see that image artifacts have been removed. Most noticeably, hot columns in the bias have been subtracted."
   ]
  },
  {
   "cell_type": "code",
   "execution_count": null,
   "metadata": {},
   "outputs": [],
   "source": [
    "if cte_correct:\n",
    "    img_files = 'j9l9*a[9-f]q_flc.fits'\n",
    "else:\n",
    "    img_files = 'j9l9*a[9-f]q_flt.fits'\n",
    "\n",
    "updatewcs.updatewcs(img_files, use_db=False)"
   ]
  },
  {
   "cell_type": "markdown",
   "metadata": {},
   "source": [
    "## Conclusion\n",
    "\n",
    "***\n",
    "\n",
    "The FLT and FLC images are not yet suitable for photometry. Before performing any analysis on the images, we still need to remove detector artifacts, cosmic rays, and geometric distortion. [AstroDrizzle](http://drizzlepac.stsci.edu) can do all of these steps and produce a single mosaic image that incorporates all of the individual exposures.\n",
    "\n",
    "Users who do not use `astrodrizzle` to correct data for distortion will need to apply a pixel area map to their data to correct for the distorted pixel area projected onto the sky before performing photometry. For those who would like to learn how to create a pixel area map, a Jupyter Notebook on the subject can be found [here](https://github.com/spacetelescope/acs-notebook/blob/master/notebooks/pixel_area_maps.ipynb)."
   ]
  },
  {
   "cell_type": "markdown",
   "metadata": {},
   "source": [
    "### For more help:\n",
    "\n",
    "More details may be found on the [ACS website]() and in the [ACS Instrument]() and [Data Handbooks]().\n",
    "\n",
    "Please visit the [HST Help Desk](http://hsthelp.stsci.edu). Through the help desk portal, you can explore the *HST* Knowledge Base and request additional help from experts."
   ]
  }
 ],
 "metadata": {
  "kernelspec": {
   "display_name": "Python 3",
   "language": "python",
   "name": "python3"
  },
  "language_info": {
   "codemirror_mode": {
    "name": "ipython",
    "version": 3
   },
   "file_extension": ".py",
   "mimetype": "text/x-python",
   "name": "python",
   "nbconvert_exporter": "python",
   "pygments_lexer": "ipython3",
   "version": "3.5.6"
  }
 },
 "nbformat": 4,
 "nbformat_minor": 2
}
